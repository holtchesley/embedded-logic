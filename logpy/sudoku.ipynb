{
 "cells": [
  {
   "cell_type": "code",
   "execution_count": 1,
   "metadata": {
    "collapsed": false
   },
   "outputs": [],
   "source": [
    "\"\"\"\n",
    "Let's take a stab at sudoku\n",
    "\"\"\"\n",
    "from logpy import run, eq, var, conde, membero\n",
    "from logpy.goals import permuteq,conso,lall"
   ]
  },
  {
   "cell_type": "code",
   "execution_count": 2,
   "metadata": {
    "collapsed": true
   },
   "outputs": [],
   "source": [
    "\"\"\"\n",
    "We're probably going to be using the numbers 1-9 a few times\n",
    "\"\"\"\n",
    "\n",
    "numbers_of_interest = (1,2,3,4,5,6,7,8,9)"
   ]
  },
  {
   "cell_type": "code",
   "execution_count": 3,
   "metadata": {
    "collapsed": false
   },
   "outputs": [],
   "source": [
    "\"\"\"\n",
    "We'll want an example board to talk about. This one is grabbed from wikipedia\n",
    "\n",
    "\"\"\"\n",
    "\n",
    "example_board = (\n",
    "   5, 3, 4, 6, 7, 8, 9, 1, 2,\n",
    "   6, 7, 2, 1, 9, 5, 3, 4, 8,\n",
    "   1, 9, 8, 3, 4, 2, 5, 6, 7,\n",
    "   8, 5, 9, 7, 6, 1, 4, 2, 3,\n",
    "   4, 2, 6, 8, 5, 3, 7, 9, 1,\n",
    "   7, 1, 3, 9, 2, 4, 8, 5, 6,\n",
    "   9, 6, 1, 5, 3, 7, 2, 8, 4,\n",
    "   2, 8, 7, 4, 1, 9, 6, 3, 5,\n",
    "   3, 4, 5, 2, 8, 6, 0, 7, 9\n",
    "    )"
   ]
  },
  {
   "cell_type": "code",
   "execution_count": 4,
   "metadata": {
    "collapsed": false
   },
   "outputs": [],
   "source": [
    "\"\"\"\n",
    "We'll want a few convenience methods to chop up the board the way we want\n",
    "\n",
    "\"\"\"\n",
    "\n",
    "def get_rows(board):\n",
    "    return tuple(board[i:i+9] for i in xrange(0,len(board),9))\n",
    "\n",
    "def get_columns(rows):\n",
    "    return tuple(tuple(map(lambda x: x[i], rows)) for i in xrange(0,9))\n",
    "\n",
    "def get_square(rows,x,y):\n",
    "    return tuple(rows[xi][yi] for xi in xrange(x,x+3) for yi in xrange(y,y+3))\n",
    "\n",
    "def get_squares(rows):\n",
    "    return tuple(get_square(rows, x, y) for x in xrange(0,9,3) for y in xrange(0,9,3))"
   ]
  },
  {
   "cell_type": "code",
   "execution_count": 5,
   "metadata": {
    "collapsed": true
   },
   "outputs": [],
   "source": [
    "\"\"\"\n",
    "Here we initialize the variables with the hints we are given\n",
    "\"\"\"\n",
    "\n",
    "def vars(hints):\n",
    "    def helper(h):\n",
    "        if h in numbers_of_interest:\n",
    "            return h\n",
    "        else:\n",
    "            return var()\n",
    "    return tuple(helper(x) for x in hints)"
   ]
  },
  {
   "cell_type": "code",
   "execution_count": 6,
   "metadata": {
    "collapsed": true
   },
   "outputs": [],
   "source": [
    "\"\"\"\n",
    "core.logic includes an implimentation of this clause, \n",
    "but we'll have to provide it ourselves.\n",
    "\n",
    "everyg takes a clause and a tuple, and verifies the clause for every\n",
    "member of the tuple\n",
    "\"\"\"\n",
    "\n",
    "def everyg(clause, coll):\n",
    "    return conde(tuple(clause(x) for x in coll))"
   ]
  },
  {
   "cell_type": "code",
   "execution_count": 7,
   "metadata": {
    "collapsed": true
   },
   "outputs": [],
   "source": [
    "\"\"\"\n",
    "Verify that a given tuple contains 1-9\n",
    "\"\"\"\n",
    "def all_numbers(coll):\n",
    "    return permuteq(coll, numbers_of_interest)"
   ]
  },
  {
   "cell_type": "code",
   "execution_count": 8,
   "metadata": {
    "collapsed": false
   },
   "outputs": [],
   "source": [
    "def sudoku_solver(hints):\n",
    "    variables = vars(hints)\n",
    "    rows = get_rows(variables)\n",
    "    cols = get_columns(rows)\n",
    "    sqs = get_squares(rows)\n",
    "    return run(1,variables,\n",
    "              everyg(all_numbers,rows),\n",
    "              everyg(all_numbers,cols),\n",
    "              everyg(all_numbers, sqs)\n",
    "              )"
   ]
  },
  {
   "cell_type": "code",
   "execution_count": 16,
   "metadata": {
    "collapsed": false
   },
   "outputs": [],
   "source": [
    "#sudoku_solver(example_board)"
   ]
  },
  {
   "cell_type": "code",
   "execution_count": 17,
   "metadata": {
    "collapsed": false
   },
   "outputs": [
    {
     "data": {
      "text/plain": [
       "((5, 3, 4, 6, 7, 8, 9, 1, 2),\n",
       " (6, 7, 2, 1, 9, 5, 3, 4, 8),\n",
       " (1, 9, 8, 3, 4, 2, 5, 6, 7),\n",
       " (8, 5, 9, 7, 6, 1, 4, 2, 3),\n",
       " (4, 2, 6, 8, 5, 3, 7, 9, 1),\n",
       " (7, 1, 3, 9, 2, 4, 8, 5, 6),\n",
       " (9, 6, 1, 5, 3, 7, 2, 8, 4),\n",
       " (2, 8, 7, 4, 1, 9, 6, 3, 5),\n",
       " (3, 4, 5, 2, 8, 6, 1, 7, 9))"
      ]
     },
     "execution_count": 17,
     "metadata": {},
     "output_type": "execute_result"
    }
   ],
   "source": [
    "get_rows(sudoku_solver(example_board)[0])"
   ]
  },
  {
   "cell_type": "code",
   "execution_count": 12,
   "metadata": {
    "collapsed": true
   },
   "outputs": [],
   "source": [
    "example_board_2 = (\n",
    "   5, 3, 0, 0, 7, 0, 0, 0, 0,\n",
    "   6, 0, 0, 1, 9, 5, 0, 0, 0,\n",
    "   0, 9, 8, 0, 0, 0, 0, 6, 0,\n",
    "   8, 0, 0, 0, 6, 0, 0, 0, 3,\n",
    "   4, 0, 0, 8, 0, 3, 0, 0, 1,\n",
    "   7, 0, 0, 0, 2, 0, 0, 0, 6,\n",
    "   0, 6, 0, 0, 0, 0, 2, 8, 0,\n",
    "   0, 0, 0, 4, 1, 9, 0, 0, 5,\n",
    "   0, 0, 0, 0, 8, 0, 0, 7, 9)\n"
   ]
  },
  {
   "cell_type": "code",
   "execution_count": 14,
   "metadata": {
    "collapsed": false
   },
   "outputs": [
    {
     "name": "stdout",
     "output_type": "stream",
     "text": [
      "CPU times: user 2 µs, sys: 1 µs, total: 3 µs\n",
      "Wall time: 5.96 µs\n"
     ]
    },
    {
     "data": {
      "text/plain": [
       "()"
      ]
     },
     "execution_count": 14,
     "metadata": {},
     "output_type": "execute_result"
    }
   ],
   "source": [
    "\"\"\"\n",
    "! This is a problem ! \n",
    "Perhaps there is a bug in logpy?\n",
    "\"\"\"\n",
    "\n",
    "sudoku_solver(example_board_2)"
   ]
  },
  {
   "cell_type": "code",
   "execution_count": null,
   "metadata": {
    "collapsed": false
   },
   "outputs": [],
   "source": []
  },
  {
   "cell_type": "code",
   "execution_count": null,
   "metadata": {
    "collapsed": true
   },
   "outputs": [],
   "source": []
  }
 ],
 "metadata": {
  "kernelspec": {
   "display_name": "Python 2",
   "language": "python",
   "name": "python2"
  },
  "language_info": {
   "codemirror_mode": {
    "name": "ipython",
    "version": 2
   },
   "file_extension": ".py",
   "mimetype": "text/x-python",
   "name": "python",
   "nbconvert_exporter": "python",
   "pygments_lexer": "ipython2",
   "version": "2.7.9"
  }
 },
 "nbformat": 4,
 "nbformat_minor": 0
}
