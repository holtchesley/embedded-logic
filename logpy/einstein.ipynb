{
 "cells": [
  {
   "cell_type": "code",
   "execution_count": 25,
   "metadata": {
    "collapsed": false
   },
   "outputs": [],
   "source": [
    "\"\"\"\n",
    "Let's work on a traditional logic puzzle. \n",
    "\n",
    "Here's one that makes an outrageous claim right off the bat:\n",
    "\"\"\"\n",
    "\n",
    "\"\"\"\n",
    "The problem:\n",
    "\n",
    "Albert Einstein once posed a brain teaser that he predicted only 2% of the worlds population would be able to solve.\n",
    "\n",
    "FACTS:\n",
    "1. There are 5 houses in 5 different colours. \n",
    "2. In each house lives a person with a different nationality. \n",
    "3. These 5 owners drink a certain beverage, smoke a certain brand of cigarette and keep a certain pet. \n",
    "4. No owners have the same pet, brand of cigaratte, or drink.\n",
    "\n",
    "CLUES:\n",
    "1. The Brit lives in a red house \n",
    "2. The Swede keeps a dog \n",
    "3. The Dane drinks tea \n",
    "4. The green house is on the left of the white house. \n",
    "5. The green house owner drinks coffee. \n",
    "6. The person who smokes Pall Mall keeps birds. \n",
    "7. The owner of the yellow house smokes Dunhill. \n",
    "8. The man living in the house right in the center drinks milk \n",
    "9. The Norwegian lives in the first house. \n",
    "10. The man who smokes Blend lives next to the one who keeps cats \n",
    "11. The man who keeps horses lives next to the man who smokes Dunhill \n",
    "12. The owner who smokes Camel drinks beer \n",
    "13. The German smokes Marlborough. \n",
    "14. The Norwegian lives next to the blue house \n",
    "15. The man who smokes Blend has a neighbour who drinks water.\n",
    "\n",
    "\"\"\"\n",
    "\n",
    "\"\"\"\n",
    "This is _very_ similar to sudoku, when looked at from the right angle.\n",
    "\n",
    "\"\"\"\n",
    "\n",
    "from logpy import run, eq, var, conde, membero\n",
    "from logpy.goals import permuteq,lall, heado, tailo"
   ]
  },
  {
   "cell_type": "code",
   "execution_count": 6,
   "metadata": {
    "collapsed": false
   },
   "outputs": [],
   "source": [
    "\"\"\"\n",
    "First, list out all the different classes we care about\n",
    "\"\"\"\n",
    "\n",
    "colors =        ('red', 'green', 'white', 'yellow', 'blue')\n",
    "nationalities = ('british', 'swedish', 'danish', 'norwegian', 'german')\n",
    "beverages =     ('tea', 'coffee', 'milk', 'beer', 'water')\n",
    "smokes =        ('pall-mall', 'dunhill', 'blend', 'camel', 'marlborough')\n",
    "pets =          ('dog', 'birds', 'cats', 'horses', 'fish')\n",
    "\n",
    "rii = {}\n",
    "for ii in xrange(0,5):\n",
    "    rii[colors[ii]] = 0\n",
    "    rii[nationalities[ii]] = 1\n",
    "    rii[beverages[ii]] = 2\n",
    "    rii[smokes[ii]] = 3\n",
    "    rii[pets[ii]] = 4"
   ]
  },
  {
   "cell_type": "code",
   "execution_count": 13,
   "metadata": {
    "collapsed": false
   },
   "outputs": [
    {
     "data": {
      "text/plain": [
       "('red', 'british', ~_14, ~_15, ~_16)"
      ]
     },
     "execution_count": 13,
     "metadata": {},
     "output_type": "execute_result"
    }
   ],
   "source": [
    "\"\"\"\n",
    "We'll need a way to make a house we only know a few things about\n",
    "\"\"\"\n",
    "\n",
    "def vague_house(*traits):\n",
    "    house = [var(), var(), var(), var(), var()]\n",
    "    for trait in traits:\n",
    "        house[rii[trait]] = trait\n",
    "    return tuple(house)\n",
    "        \n",
    "vague_house('red', 'british')"
   ]
  },
  {
   "cell_type": "code",
   "execution_count": 51,
   "metadata": {
    "collapsed": false
   },
   "outputs": [],
   "source": [
    "\"\"\"\n",
    "We'll need a way to talk about neighbors\n",
    "\"\"\"\n",
    "\n",
    "def neighbors(left, right, houses, ordered):\n",
    "    if ordered:\n",
    "        (a,b,c,d,e) = tuple(var() for x in xrange(0,5))\n",
    "        \n",
    "        return conde((eq(houses,(left,right,c,d,e)),),\n",
    "                     (eq(houses,(a,left,right,d,e)),),\n",
    "                     (eq(houses,(a,b,left,right,e)),),\n",
    "                     (eq(houses,(a,b,c,left,right)),))\n",
    "    else:\n",
    "        return conde((neighbors(left, right, houses, True),),\n",
    "                     (neighbors(right, left, houses, True),))"
   ]
  },
  {
   "cell_type": "code",
   "execution_count": 30,
   "metadata": {
    "collapsed": true
   },
   "outputs": [],
   "source": [
    "\"\"\"\n",
    "The following two functions are taken from the sudoku notebook\n",
    "\"\"\"\n",
    "\n",
    "def get_rows(board):\n",
    "    return tuple(board[i:i+5] for i in xrange(0,len(board),5))\n",
    "\n",
    "def get_columns(rows):\n",
    "    return tuple(tuple(map(lambda x: x[i], rows)) for i in xrange(0,5))\n",
    "\n",
    "\n"
   ]
  },
  {
   "cell_type": "code",
   "execution_count": 86,
   "metadata": {
    "collapsed": false
   },
   "outputs": [
    {
     "data": {
      "text/plain": [
       "((('green', 'german', 'coffee', 'marlborough', 'fish'),\n",
       "  ('white', 'swedish', 'beer', 'camel', 'dog'),\n",
       "  ('red', 'british', 'milk', 'pall-mall', 'birds'),\n",
       "  ('blue', 'danish', 'tea', 'blend', 'horses'),\n",
       "  ('yellow', 'norwegian', 'water', 'dunhill', 'cats')),\n",
       " (('yellow', 'norwegian', 'water', 'dunhill', 'cats'),\n",
       "  ('blue', 'danish', 'tea', 'blend', 'horses'),\n",
       "  ('red', 'british', 'milk', 'pall-mall', 'birds'),\n",
       "  ('green', 'german', 'coffee', 'marlborough', 'fish'),\n",
       "  ('white', 'swedish', 'beer', 'camel', 'dog')))"
      ]
     },
     "execution_count": 86,
     "metadata": {},
     "output_type": "execute_result"
    }
   ],
   "source": [
    "all_vars = tuple(var() for x in xrange(0,25))\n",
    "houses = get_rows(all_vars)\n",
    "cols = get_columns(houses)\n",
    "fish_owner = var()\n",
    "\n",
    "run(4,houses, \n",
    "    #1. The Brit lives in a red house \n",
    "    membero(vague_house('british','red'),houses),\n",
    "    #2. The Swede keeps a dog \n",
    "    membero(vague_house('swedish', 'dog'), houses),\n",
    "    #3. The Dane drinks tea \n",
    "    membero(vague_house('danish','tea'), houses),\n",
    "    #4. The green house is on the left of the white house. \n",
    "    neighbors(vague_house('green'), vague_house('white'), houses, True),\n",
    "    #5. The green house owner drinks coffee. \n",
    "    membero(vague_house('green', 'coffee'), houses),\n",
    "    #6. The person who smokes Pall Mall keeps birds. \n",
    "    membero(vague_house('pall-mall', 'birds'),houses),\n",
    "    #7. The owner of the yellow house smokes Dunhill. \n",
    "    membero(vague_house('yellow', 'dunhill'),houses),\n",
    "    #8. The man living in the house right in the center drinks milk \n",
    "    eq(houses[2], vague_house('milk')),\n",
    "    #9. The Norwegian lives in the first house. \n",
    "    conde((eq(houses[0], vague_house('norwegian')),),\n",
    "          (eq(houses[4], vague_house('norwegian')),)),\n",
    "    #10. The man who smokes Blend lives next to the one who keeps cats \n",
    "    neighbors(vague_house('blend'), vague_house('cats'), houses, False),\n",
    "    #11. The man who keeps horses lives next to the man who smokes Dunhill \n",
    "    neighbors(vague_house('horses'),vague_house('dunhill'), houses, False),\n",
    "    #12. The owner who smokes Camel drinks beer \n",
    "    membero(vague_house('camel', 'beer'),houses),\n",
    "    #13. The German smokes Marlborough. \n",
    "    membero(vague_house('german','marlborough'), houses),\n",
    "    #14. The Norwegian lives next to the blue house \n",
    "    neighbors(vague_house('norwegian'), vague_house('blue'), houses, False),\n",
    "    #15. The man who smokes Blend has a neighbour who drinks water.\n",
    "    neighbors(vague_house('blend'), vague_house('water'), houses, False),\n",
    "    # This is the part that's just like sudoku\n",
    "#    permuteq(colors, cols[0]),\n",
    "#    permuteq(nationalities, cols[1]),\n",
    "#    permuteq(beverages, cols[2]),\n",
    "#    permuteq(smokes, cols[3]),\n",
    "#    permuteq(pets, cols[4]),\n",
    "    membero((var(),fish_owner,var(),var(),'fish'),houses)\n",
    "   )"
   ]
  },
  {
   "cell_type": "code",
   "execution_count": null,
   "metadata": {
    "collapsed": true
   },
   "outputs": [],
   "source": []
  }
 ],
 "metadata": {
  "kernelspec": {
   "display_name": "Python 2",
   "language": "python",
   "name": "python2"
  },
  "language_info": {
   "codemirror_mode": {
    "name": "ipython",
    "version": 2
   },
   "file_extension": ".py",
   "mimetype": "text/x-python",
   "name": "python",
   "nbconvert_exporter": "python",
   "pygments_lexer": "ipython2",
   "version": "2.7.9"
  }
 },
 "nbformat": 4,
 "nbformat_minor": 0
}
